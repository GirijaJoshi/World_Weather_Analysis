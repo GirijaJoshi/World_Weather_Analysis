{
 "cells": [
  {
   "cell_type": "markdown",
   "metadata": {},
   "source": [
    "#### Part 3 Instructions\n",
    "#### Create a Travel Itinerary with a Corresponding Map"
   ]
  },
  {
   "cell_type": "code",
   "execution_count": 1,
   "metadata": {},
   "outputs": [],
   "source": [
    "# Import the dependencies.\n",
    "import pandas as pd\n",
    "import gmaps\n",
    "import requests\n",
    "import os\n",
    "import time\n",
    "import json\n",
    "from datetime import datetime\n",
    "# Import the API key.\n",
    "from config import g_key"
   ]
  },
  {
   "cell_type": "code",
   "execution_count": 2,
   "metadata": {},
   "outputs": [],
   "source": [
    "# Configure gmaps to use your Google API key.\n",
    "gmaps.configure(api_key=g_key)"
   ]
  },
  {
   "cell_type": "code",
   "execution_count": 3,
   "metadata": {},
   "outputs": [
    {
     "data": {
      "text/html": [
       "<div>\n",
       "<style scoped>\n",
       "    .dataframe tbody tr th:only-of-type {\n",
       "        vertical-align: middle;\n",
       "    }\n",
       "\n",
       "    .dataframe tbody tr th {\n",
       "        vertical-align: top;\n",
       "    }\n",
       "\n",
       "    .dataframe thead th {\n",
       "        text-align: right;\n",
       "    }\n",
       "</style>\n",
       "<table border=\"1\" class=\"dataframe\">\n",
       "  <thead>\n",
       "    <tr style=\"text-align: right;\">\n",
       "      <th></th>\n",
       "      <th>City_ID</th>\n",
       "      <th>City</th>\n",
       "      <th>Country</th>\n",
       "      <th>Max Temp</th>\n",
       "      <th>Current Description</th>\n",
       "      <th>Lat</th>\n",
       "      <th>Lng</th>\n",
       "      <th>Hotel Name</th>\n",
       "    </tr>\n",
       "  </thead>\n",
       "  <tbody>\n",
       "    <tr>\n",
       "      <th>0</th>\n",
       "      <td>4</td>\n",
       "      <td>Hilo</td>\n",
       "      <td>US</td>\n",
       "      <td>82.40</td>\n",
       "      <td>overcast clouds</td>\n",
       "      <td>19.73</td>\n",
       "      <td>-155.09</td>\n",
       "      <td>Hilo Hawaiian Hotel</td>\n",
       "    </tr>\n",
       "    <tr>\n",
       "      <th>1</th>\n",
       "      <td>5</td>\n",
       "      <td>Butaritari</td>\n",
       "      <td>KI</td>\n",
       "      <td>82.92</td>\n",
       "      <td>light rain</td>\n",
       "      <td>3.07</td>\n",
       "      <td>172.79</td>\n",
       "      <td>Isles Sunset Lodge</td>\n",
       "    </tr>\n",
       "    <tr>\n",
       "      <th>2</th>\n",
       "      <td>11</td>\n",
       "      <td>Kieta</td>\n",
       "      <td>PG</td>\n",
       "      <td>85.69</td>\n",
       "      <td>clear sky</td>\n",
       "      <td>-6.22</td>\n",
       "      <td>155.63</td>\n",
       "      <td>NaN</td>\n",
       "    </tr>\n",
       "    <tr>\n",
       "      <th>3</th>\n",
       "      <td>12</td>\n",
       "      <td>Bambanglipuro</td>\n",
       "      <td>ID</td>\n",
       "      <td>78.13</td>\n",
       "      <td>overcast clouds</td>\n",
       "      <td>-7.95</td>\n",
       "      <td>110.28</td>\n",
       "      <td>Puri Brata</td>\n",
       "    </tr>\n",
       "    <tr>\n",
       "      <th>4</th>\n",
       "      <td>13</td>\n",
       "      <td>Avarua</td>\n",
       "      <td>CK</td>\n",
       "      <td>75.20</td>\n",
       "      <td>clear sky</td>\n",
       "      <td>-21.21</td>\n",
       "      <td>-159.78</td>\n",
       "      <td>Paradise Inn</td>\n",
       "    </tr>\n",
       "  </tbody>\n",
       "</table>\n",
       "</div>"
      ],
      "text/plain": [
       "   City_ID           City Country  Max Temp Current Description    Lat  \\\n",
       "0        4           Hilo      US     82.40     overcast clouds  19.73   \n",
       "1        5     Butaritari      KI     82.92          light rain   3.07   \n",
       "2       11          Kieta      PG     85.69           clear sky  -6.22   \n",
       "3       12  Bambanglipuro      ID     78.13     overcast clouds  -7.95   \n",
       "4       13         Avarua      CK     75.20           clear sky -21.21   \n",
       "\n",
       "      Lng           Hotel Name  \n",
       "0 -155.09  Hilo Hawaiian Hotel  \n",
       "1  172.79   Isles Sunset Lodge  \n",
       "2  155.63                  NaN  \n",
       "3  110.28           Puri Brata  \n",
       "4 -159.78         Paradise Inn  "
      ]
     },
     "execution_count": 3,
     "metadata": {},
     "output_type": "execute_result"
    }
   ],
   "source": [
    "# read data from csv and store into dta frame\n",
    "file_name = os.path.join(\".\",\"data\",\"WeatherPy_vacation.csv\")\n",
    "weather_vacation_data_df = pd.read_csv(file_name)\n",
    "weather_vacation_data_df.head()"
   ]
  },
  {
   "cell_type": "code",
   "execution_count": 4,
   "metadata": {},
   "outputs": [],
   "source": [
    "info_box_template = \"\"\"\n",
    "<dl>\n",
    "<dt>Hotel Name</dt><dd>{Hotel Name}</dd>\n",
    "<dt>City</dt><dd>{City}</dd>\n",
    "<dt>Country</dt><dd>{Country}</dd>\n",
    "<dt>Current Weather</dt><dd>{Current Description} and {Max Temp} °F</dd>\n",
    "</dl>\n",
    "\"\"\"\n",
    "# Store the DataFrame Row.\n",
    "hotel_info = [info_box_template.format(**row) for index, row in weather_vacation_data_df.iterrows()]"
   ]
  },
  {
   "cell_type": "code",
   "execution_count": 5,
   "metadata": {},
   "outputs": [
    {
     "data": {
      "application/vnd.jupyter.widget-view+json": {
       "model_id": "357835e2904d4318b83436496d619d9a",
       "version_major": 2,
       "version_minor": 0
      },
      "text/plain": [
       "Figure(layout=FigureLayout(height='420px'))"
      ]
     },
     "metadata": {},
     "output_type": "display_data"
    }
   ],
   "source": [
    "# Add a heatmap of temperature for the vacation spots.\n",
    "locations = weather_vacation_data_df[[\"Lat\", \"Lng\"]]\n",
    "# max_temp = hotel_df[\"Max Temp\"]\n",
    "\n",
    "fig = gmaps.figure(center=(30.0, 31.0), zoom_level=1.5)\n",
    "\n",
    "# hotel marker with names\n",
    "marker_layer = gmaps.marker_layer(locations, info_box_content=hotel_info)\n",
    "fig.add_layer(marker_layer)\n",
    "\n",
    "# Call the figure to plot the data.\n",
    "fig"
   ]
  },
  {
   "cell_type": "code",
   "execution_count": 22,
   "metadata": {},
   "outputs": [
    {
     "name": "stdout",
     "output_type": "stream",
     "text": [
      "Please enter first city name, you can click on merket to get city name: Fernie\n"
     ]
    }
   ],
   "source": [
    "city_name1 = input(\"Please enter first city name, you can click on merket to get city name: \")"
   ]
  },
  {
   "cell_type": "code",
   "execution_count": 23,
   "metadata": {},
   "outputs": [
    {
     "name": "stdout",
     "output_type": "stream",
     "text": [
      "Please enter second city name, you can click on merket to get city name: Show Low\n"
     ]
    }
   ],
   "source": [
    "city_name2 = input(\"Please enter second city name, you can click on merket to get city name: \")"
   ]
  },
  {
   "cell_type": "code",
   "execution_count": 24,
   "metadata": {},
   "outputs": [
    {
     "name": "stdout",
     "output_type": "stream",
     "text": [
      "Please enter third city name, you can click on merket to get city name: Lincoln\n"
     ]
    }
   ],
   "source": [
    "city_name3 = input(\"Please enter third city name, you can click on merket to get city name: \")"
   ]
  },
  {
   "cell_type": "code",
   "execution_count": 25,
   "metadata": {},
   "outputs": [
    {
     "name": "stdout",
     "output_type": "stream",
     "text": [
      "Please enter fourth city name, you can click on merket to get city name: Redlands\n"
     ]
    }
   ],
   "source": [
    "city_name4 = input(\"Please enter fourth city name, you can click on merket to get city name: \")"
   ]
  },
  {
   "cell_type": "code",
   "execution_count": 26,
   "metadata": {},
   "outputs": [
    {
     "name": "stdout",
     "output_type": "stream",
     "text": [
      "1:Fernie, 2:Show Low, 3:Lincoln, 4:Redlands\n"
     ]
    }
   ],
   "source": [
    "print(f'1:{city_name1}, 2:{city_name2}, 3:{city_name3}, 4:{city_name4}')"
   ]
  },
  {
   "cell_type": "code",
   "execution_count": 27,
   "metadata": {},
   "outputs": [],
   "source": [
    "# Get infor for each entered city\n",
    "vacation_stop_1 = weather_vacation_data_df.loc[weather_vacation_data_df[\"City\"] == city_name1]\n",
    "vacation_stop_2 = weather_vacation_data_df.loc[weather_vacation_data_df[\"City\"] == city_name2]\n",
    "vacation_stop_3 = weather_vacation_data_df.loc[weather_vacation_data_df[\"City\"] == city_name3]\n",
    "vacation_stop_4 = weather_vacation_data_df.loc[weather_vacation_data_df[\"City\"] == city_name4]"
   ]
  },
  {
   "cell_type": "code",
   "execution_count": 28,
   "metadata": {
    "scrolled": true
   },
   "outputs": [
    {
     "name": "stdout",
     "output_type": "stream",
     "text": [
      "1:     City_ID    City Country  Max Temp Current Description   Lat     Lng  \\\n",
      "122      348  Fernie      CA      75.2       broken clouds  49.5 -115.07   \n",
      "\n",
      "                 Hotel Name  \n",
      "122  Fernie Stanford Resort   \n",
      " 2:    City_ID      City Country  Max Temp Current Description    Lat     Lng  \\\n",
      "67      195  Show Low      US      82.4           clear sky  34.25 -110.03   \n",
      "\n",
      "                               Hotel Name  \n",
      "67  Hampton Inn & Suites Show Low-Pinetop   \n",
      " 3:     City_ID     City Country  Max Temp Current Description   Lat    Lng  \\\n",
      "114      331  Lincoln      US      75.2     overcast clouds  40.8 -96.67   \n",
      "\n",
      "                                           Hotel Name  \n",
      "114  Courtyard by Marriott Lincoln Downtown/Haymarket  \n",
      " 4:     City_ID      City Country  Max Temp Current Description    Lat     Lng  \\\n",
      "186      560  Redlands      US      86.0                haze  34.06 -117.18   \n",
      "\n",
      "                  Hotel Name  \n",
      "186  Dynasty Suites Redlands  \n"
     ]
    }
   ],
   "source": [
    "print(f\"1:{vacation_stop_1} \\n 2:{vacation_stop_2} \\n 3:{vacation_stop_3}\\n 4:{vacation_stop_4}\")"
   ]
  },
  {
   "cell_type": "code",
   "execution_count": 29,
   "metadata": {},
   "outputs": [],
   "source": [
    "# Getting Lat and Lg for each city and storing it as tuple\n",
    "city_1_lat_lng = vacation_stop_1[\"Lat\"].values[0], vacation_stop_1[\"Lng\"].values[0]\n",
    "city_2_lat_lng = vacation_stop_2[\"Lat\"].values[0], vacation_stop_2[\"Lng\"].values[0]\n",
    "city_3_lat_lng = vacation_stop_3[\"Lat\"].values[0], vacation_stop_3[\"Lng\"].values[0]\n",
    "city_4_lat_lng = vacation_stop_4[\"Lat\"].values[0], vacation_stop_4[\"Lng\"].values[0]"
   ]
  },
  {
   "cell_type": "code",
   "execution_count": 30,
   "metadata": {},
   "outputs": [
    {
     "name": "stdout",
     "output_type": "stream",
     "text": [
      "1:(49.5, -115.07), 2:(34.25, -110.03), 3:(40.8, -96.67), 4:(34.06, -117.18)\n"
     ]
    }
   ],
   "source": [
    "print(f'1:{city_1_lat_lng}, 2:{city_2_lat_lng}, 3:{city_3_lat_lng}, 4:{city_4_lat_lng}')"
   ]
  },
  {
   "cell_type": "code",
   "execution_count": 31,
   "metadata": {},
   "outputs": [
    {
     "data": {
      "application/vnd.jupyter.widget-view+json": {
       "model_id": "6937379c32254f5ca208d1838cac5d39",
       "version_major": 2,
       "version_minor": 0
      },
      "text/plain": [
       "Figure(layout=FigureLayout(height='420px'))"
      ]
     },
     "metadata": {},
     "output_type": "display_data"
    }
   ],
   "source": [
    "# Get the directions\n",
    "fig = gmaps.figure(center=(30.0, 31.0), zoom_level=1.5)\n",
    "travel_itinerary = gmaps.directions_layer(city_1_lat_lng, city_4_lat_lng, \n",
    "                                          waypoints=[city_2_lat_lng, city_3_lat_lng],travel_mode='DRIVING')\n",
    "fig.add_layer(travel_itinerary)\n",
    "fig"
   ]
  },
  {
   "cell_type": "code",
   "execution_count": 16,
   "metadata": {},
   "outputs": [
    {
     "data": {
      "text/plain": [
       "pandas.core.frame.DataFrame"
      ]
     },
     "execution_count": 16,
     "metadata": {},
     "output_type": "execute_result"
    }
   ],
   "source": [
    "type(vacation_stop_1)"
   ]
  },
  {
   "cell_type": "code",
   "execution_count": 17,
   "metadata": {},
   "outputs": [],
   "source": [
    "# Create a marker layer map for the four cities\n",
    "# frames = [df1, df2, df3]\n",
    "# In [5]: result = pd.concat(frames)\n",
    "# combine 4 dataframes\n",
    "frames = [vacation_stop_1, vacation_stop_2, vacation_stop_3, vacation_stop_4]\n",
    "results_df = pd.concat(frames)"
   ]
  },
  {
   "cell_type": "code",
   "execution_count": 18,
   "metadata": {},
   "outputs": [
    {
     "data": {
      "text/html": [
       "<div>\n",
       "<style scoped>\n",
       "    .dataframe tbody tr th:only-of-type {\n",
       "        vertical-align: middle;\n",
       "    }\n",
       "\n",
       "    .dataframe tbody tr th {\n",
       "        vertical-align: top;\n",
       "    }\n",
       "\n",
       "    .dataframe thead th {\n",
       "        text-align: right;\n",
       "    }\n",
       "</style>\n",
       "<table border=\"1\" class=\"dataframe\">\n",
       "  <thead>\n",
       "    <tr style=\"text-align: right;\">\n",
       "      <th></th>\n",
       "      <th>City_ID</th>\n",
       "      <th>City</th>\n",
       "      <th>Country</th>\n",
       "      <th>Max Temp</th>\n",
       "      <th>Current Description</th>\n",
       "      <th>Lat</th>\n",
       "      <th>Lng</th>\n",
       "      <th>Hotel Name</th>\n",
       "    </tr>\n",
       "  </thead>\n",
       "  <tbody>\n",
       "    <tr>\n",
       "      <th>34</th>\n",
       "      <td>115</td>\n",
       "      <td>Almaznyy</td>\n",
       "      <td>RU</td>\n",
       "      <td>75.20</td>\n",
       "      <td>overcast clouds</td>\n",
       "      <td>48.04</td>\n",
       "      <td>40.05</td>\n",
       "      <td>NaN</td>\n",
       "    </tr>\n",
       "    <tr>\n",
       "      <th>165</th>\n",
       "      <td>497</td>\n",
       "      <td>Beyneu</td>\n",
       "      <td>KZ</td>\n",
       "      <td>77.49</td>\n",
       "      <td>clear sky</td>\n",
       "      <td>45.32</td>\n",
       "      <td>55.20</td>\n",
       "      <td>NUR</td>\n",
       "    </tr>\n",
       "    <tr>\n",
       "      <th>124</th>\n",
       "      <td>355</td>\n",
       "      <td>Aksarayskiy</td>\n",
       "      <td>RU</td>\n",
       "      <td>84.00</td>\n",
       "      <td>broken clouds</td>\n",
       "      <td>46.79</td>\n",
       "      <td>48.01</td>\n",
       "      <td>NaN</td>\n",
       "    </tr>\n",
       "    <tr>\n",
       "      <th>164</th>\n",
       "      <td>494</td>\n",
       "      <td>Gazanjyk</td>\n",
       "      <td>TM</td>\n",
       "      <td>87.17</td>\n",
       "      <td>few clouds</td>\n",
       "      <td>39.24</td>\n",
       "      <td>55.52</td>\n",
       "      <td>Railway motel</td>\n",
       "    </tr>\n",
       "  </tbody>\n",
       "</table>\n",
       "</div>"
      ],
      "text/plain": [
       "     City_ID         City Country  Max Temp Current Description    Lat    Lng  \\\n",
       "34       115     Almaznyy      RU     75.20     overcast clouds  48.04  40.05   \n",
       "165      497       Beyneu      KZ     77.49           clear sky  45.32  55.20   \n",
       "124      355  Aksarayskiy      RU     84.00       broken clouds  46.79  48.01   \n",
       "164      494     Gazanjyk      TM     87.17          few clouds  39.24  55.52   \n",
       "\n",
       "        Hotel Name  \n",
       "34             NaN  \n",
       "165            NUR  \n",
       "124            NaN  \n",
       "164  Railway motel  "
      ]
     },
     "execution_count": 18,
     "metadata": {},
     "output_type": "execute_result"
    }
   ],
   "source": [
    "results_df"
   ]
  },
  {
   "cell_type": "code",
   "execution_count": 19,
   "metadata": {},
   "outputs": [],
   "source": [
    "info_box_template = \"\"\"\n",
    "<dl>\n",
    "<dt>Hotel Name</dt><dd>{Hotel Name}</dd>\n",
    "<dt>City</dt><dd>{City}</dd>\n",
    "<dt>Country</dt><dd>{Country}</dd>\n",
    "<dt>Current Weather</dt><dd>{Current Description} and {Max Temp} °F</dd>\n",
    "</dl>\n",
    "\"\"\"\n",
    "# Store the DataFrame Row.\n",
    "itinerary_hotel_info = [info_box_template.format(**row) for index, row in results_df.iterrows()]"
   ]
  },
  {
   "cell_type": "code",
   "execution_count": 20,
   "metadata": {},
   "outputs": [
    {
     "data": {
      "application/vnd.jupyter.widget-view+json": {
       "model_id": "229a00c4f5374d59be7774eb2bca8d6e",
       "version_major": 2,
       "version_minor": 0
      },
      "text/plain": [
       "Figure(layout=FigureLayout(height='420px'))"
      ]
     },
     "metadata": {},
     "output_type": "display_data"
    }
   ],
   "source": [
    "# marker layer map\n",
    "locations = results_df[[\"Lat\", \"Lng\"]]\n",
    "# max_temp = hotel_df[\"Max Temp\"]\n",
    "\n",
    "fig = gmaps.figure(center=(30.0, 31.0), zoom_level=1.5)\n",
    "\n",
    "# hotel marker with names\n",
    "marker_layer = gmaps.marker_layer(locations, info_box_content=itinerary_hotel_info)\n",
    "fig.add_layer(marker_layer)\n",
    "\n",
    "# Call the figure to plot the data.\n",
    "fig"
   ]
  },
  {
   "cell_type": "code",
   "execution_count": null,
   "metadata": {},
   "outputs": [],
   "source": []
  }
 ],
 "metadata": {
  "kernelspec": {
   "display_name": "PythonData",
   "language": "python",
   "name": "pythondata"
  },
  "language_info": {
   "codemirror_mode": {
    "name": "ipython",
    "version": 3
   },
   "file_extension": ".py",
   "mimetype": "text/x-python",
   "name": "python",
   "nbconvert_exporter": "python",
   "pygments_lexer": "ipython3",
   "version": "3.7.7"
  }
 },
 "nbformat": 4,
 "nbformat_minor": 4
}
